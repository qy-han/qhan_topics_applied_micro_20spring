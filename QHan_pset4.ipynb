{
 "cells": [
  {
   "cell_type": "markdown",
   "metadata": {},
   "source": [
    "Problem Set 4\n",
    "=============\n",
    "Qingyang Han\n",
    "------\n"
   ]
  },
  {
   "cell_type": "markdown",
   "metadata": {},
   "source": [
    "## Question 1: Deriving moment conditions\n",
    "### - (a) No selection"
   ]
  },
  {
   "cell_type": "markdown",
   "metadata": {},
   "source": [
    "The data generating process is\n",
    "\n",
    "\\begin{align}\n",
    "    log(w_{it}) &= Z_{it}'\\beta + u_{it} \\\\\n",
    "    u_{it} &= p_{it} + m_{it},\\quad m_{it} \\sim N(0,\\sigma_m^2) \\\\\n",
    "    p_{it} &= p_{i,t-1} + \\zeta_{it},\\quad \\zeta_{it}\\sim N(0,\\sigma^2_{\\zeta})   \n",
    "\\end{align}"
   ]
  },
  {
   "cell_type": "markdown",
   "metadata": {},
   "source": [
    "To derive the moment conditions, notice that\n",
    "\n",
    "\\begin{align}\n",
    "    var(u_{it}) & = var(p_{it}) + \\sigma^2_m \\\\\n",
    "    cov(u_{it}, u_{i,t-1}) & = cov(p_{it},p_{i,t-1}) \\\\\n",
    "                           & = cov(p_{i,t-1}, p_{i,t-1}+\\zeta_{it}) \\\\\n",
    "                           & = var(p_{i,t-1}) \\\\\n",
    "    cov(u_{it}, u_{i,t+1}) & = var(p_{it})\n",
    "\\end{align}\n",
    "\n",
    "and\n",
    "\n",
    "\\begin{align}\n",
    "    var(p_{it}) = var(p_{i,t-1}) + \\sigma_{\\zeta}^2 \n",
    "\\end{align}\n",
    "\n",
    "we can get that\n",
    "\n",
    "\\begin{align}\n",
    "    \\sigma^2_m &= var(u_{it}) - cov(u_{it}, u_{i,t+1}) \\\\\n",
    "    \\sigma_{\\zeta}^2 &= cov(u_{it}, u_{i,t+1}) - cov(u_{it}, u_{i,t-1})\n",
    "\\end{align}"
   ]
  },
  {
   "cell_type": "markdown",
   "metadata": {},
   "source": [
    "Therefore, the sample analogue should be\n",
    "\n",
    "\\begin{align}\n",
    "    \\hat{\\sigma}^2_m &= \\dfrac{1}{NT}\\sum_{i=1}^{N}\\sum_{t=1}^{T} \\hat{u}_{it}^2 - \\dfrac{1}{N(T-1)}\\sum_{i=1}^{N}\\sum_{t=1}^{T-1}\\hat{u}_{it}\\hat{u}_{i,t+1} \\\\\n",
    "    \\hat{\\sigma}_\\zeta ^2 &= \\dfrac{1}{N(T-1)}\\sum_{i=1}^{N}(\\sum_{t=1}^{T-1}\\hat{u}_{it}\\hat{u}_{i,t+1} - \\sum_{t=2}^{T}\\hat{u}_{it}\\hat{u}_{i,t-1})\n",
    "\\end{align}\n"
   ]
  },
  {
   "cell_type": "markdown",
   "metadata": {},
   "source": [
    "Equivalently, since $\\Delta u_{it} = m_{it}-m_{i,t-1}+\\zeta_{it}$,\n",
    "\n",
    "\\begin{align}\n",
    "    cov(\\Delta u_{it}, \\Delta u_{i,t-1}) &= -\\sigma^2_m \\\\\n",
    "    var(\\Delta u_{it}) &= 2\\sigma_m^2 + \\sigma_\\zeta^2\n",
    "\\end{align}"
   ]
  },
  {
   "cell_type": "markdown",
   "metadata": {},
   "source": [
    "The moment conditions can also be written as\n",
    "\n",
    "\\begin{align}\n",
    "    \\dfrac{1}{N(T-2)}\\sum_{i=1}^{N}\\sum_{t=2}^{T-1} \\Delta \\hat{u}_{it} \\Delta \\hat{u}_{i,t-1} &= -\\hat{\\sigma}_m^2 \\\\\n",
    "    \\dfrac{1}{N(T-1)}\\sum_{i=1}^{N}\\sum_{t=2}^{T} \\Delta \\hat{u}^2_{it} &= 2\\hat{\\sigma}_m^2 + \\hat{\\sigma}_{\\zeta}^2\n",
    "\\end{align}"
   ]
  },
  {
   "cell_type": "markdown",
   "metadata": {},
   "source": [
    "### - (b) With sample selection"
   ]
  },
  {
   "cell_type": "markdown",
   "metadata": {},
   "source": [
    "Now, \n",
    "\n",
    "\\begin{align}\n",
    "    E[\\Delta log(w_{it})|L_{it}=1, L_{i,t-1}=1] &= \\Delta Z_{it}'\\beta + E[u_{it}-u_{i,t-1}|\\eta_{it}>-x_{it}'\\gamma, \\eta_{i,t-1}>-x_{i,t-1}'\\gamma] \\notag \\\\\n",
    "                            &= \\Delta Z_{it}'\\beta + E[\\Delta(p_{it}+m_{it})|\\eta_{it}>-x_{it}'\\gamma, \\eta_{i,t-1}>-x_{i,t-1}'\\gamma] \\notag \\\\\n",
    "                            &= \\Delta Z_{it}'\\beta + E[\\zeta_{it}|\\eta_{it}>-x_{it}'\\gamma, \\eta_{i,t-1}>-x_{i,t-1}'\\gamma] \\notag \\\\\n",
    "                            &= \\Delta Z_{it}'\\beta + E[\\zeta_{it}|\\eta_{it}>-x_{it}'\\gamma] \\notag \\\\\n",
    "                            &= \\Delta Z_{it}'\\beta + \\rho_{\\eta,\\zeta} \\sigma_\\zeta \\dfrac{\\phi(\\dfrac{-x_{it}'\\gamma}{\\sigma_\\eta})}{1-\\Phi(\\dfrac{-x_{it}'\\gamma}{\\sigma_\\eta})}     \\notag \\\\\n",
    "                            &= \\Delta Z_{it}'\\beta + \\sigma_{\\zeta\\eta} \\dfrac{\\phi(-x_{it}'\\gamma)}{1-\\Phi(-x_{it}'\\gamma)} \\notag \\\\\n",
    "                            &=  \\Delta Z_{it}'\\beta + \\sigma_{\\zeta\\eta} \\lambda_{it}\n",
    "\\end{align}\n",
    "\n",
    "where $\\lambda_{it} = \\dfrac{\\phi(-x_{it}'\\gamma)}{1-\\Phi(-x_{it}'\\gamma)}$ is the inverse Mill's ratio.  "
   ]
  },
  {
   "cell_type": "markdown",
   "metadata": {},
   "source": [
    "For the other two moment conditions, \n",
    "\n",
    "\\begin{align}\n",
    "    E[\\Delta u_{it}^2|\\eta_{it}>-x_{it}'\\gamma, \\eta_{i,t-1}>-x_{i,t-1}'\\gamma] &= 2\\sigma_m^2 + E[\\zeta^2_t|\\eta_{it}>-x_{it}'\\gamma] \\\\\n",
    "                                                &= 2\\sigma_m^2 + \\rho^2_{\\zeta\\eta}\\sigma_\\zeta^2 [(-x_{it}'\\gamma)\\dfrac{\\phi(-x_{it}'\\gamma)}{1-\\Phi(-x_{it}'\\gamma)}+1]+\\sigma_\\zeta^2(1-\\rho_{\\zeta\\eta}^2) \\\\\n",
    "                                                &= 2\\sigma_m^2 + \\rho^2_{\\zeta\\eta}\\sigma_\\zeta^2 [(-x_{it}'\\gamma)\\lambda_{it}+1]+\\sigma_\\zeta^2(1-\\rho_{\\zeta\\eta}^2) \\notag \\\\\n",
    "                                                &= 2\\sigma_m^2 + \\sigma^2_{\\zeta\\eta}(-x_{it}'\\gamma)\\lambda_{it} + \\sigma^2_zeta \\\\\n",
    "                                                 E[\\Delta u_{it} \\Delta u_{i,t-1}|\\eta_{it}>-x_{it}'\\gamma, \\eta_{i,t-1}>-x_{i,t-1}'\\gamma] &= -\\sigma_m^2 + E[\\zeta_{it}\\zeta_{i,t-1}|\\eta_{it}>-x_{it}'\\gamma, \\eta_{it-1}>-x_{it-1}'\\gamma] \\notag \\\\\n",
    "                  &= -\\sigma_m^2 + \\sigma_{\\zeta\\eta}^2 (\\lambda_{it}\\lambda_{i,t-1})\n",
    "          \\end{align}\n",
    "          \n",
    "The last equation holds because for any random variables $X$ and $Y$ such that $X\\perp Y$, we have\n",
    "\n",
    "\\begin{align}\n",
    "    E[XY|X>a, Y>b] &= \\dfrac{1}{\\Pr(X>a)\\Pr(Y>b)}\\int_{x=a}^{\\infty} \\int_{y=b}^{\\infty} xyf(x)f(y)dxdy   \\notag \\\\\n",
    "                   &= [\\dfrac{1}{\\Pr(X>a)}\\int_{x=a}^{\\infty} xf(x)dx] [\\dfrac{1}{\\Pr(Y>b)}\\int_{y=b}^{\\infty} yf(y)dy] \\notag \\\\\n",
    "                   &= E[X|X>a]E[Y|Y>b]\n",
    "\\end{align}"
   ]
  },
  {
   "cell_type": "markdown",
   "metadata": {},
   "source": [
    "## Question 2: Estimation"
   ]
  },
  {
   "cell_type": "markdown",
   "metadata": {},
   "source": [
    "The estimation procedures are\n",
    "\n",
    "1. Estimate the Probit regression model\n",
    "\n",
    "\\begin{align}\n",
    "    \\Pr(L_{it}=1) = \\Phi(\\Pi_{it}'\\gamma+\\eta_{it}>0)\n",
    "\\end{align}\n",
    "\n",
    "and get the estimated results $\\hat{\\gamma}$, $\\hat{\\lambda}_{it} = \\dfrac{\\phi(-\\Pi_{it}'\\hat{\\gamma})}{1-\\Phi(-\\Pi_{it}'\\hat{\\gamma})}$\n",
    "\n",
    "2. Regress $\\Delta log(w_{it})$ on $\\Delta Z_{it}$ and $\\hat{\\lambda}_{it}$ and get $\\hat{\\beta}$, $\\hat{\\sigma}_{\\zeta\\eta}$. Then, calculate $\\hat{\\Delta u}_{it} = \\Delta log(w_{it}) - \\Delta Z_{it}\\hat{\\gamma} $\n",
    "\n",
    "3. Using the other two moment conditions, estimate $\\hat{\\sigma}_m^2$ and $\\hat{\\sigma}_\\zeta^2$. This can be done either by Method of Moments or by (system of equations) Nonlinear Least Square. "
   ]
  },
  {
   "cell_type": "markdown",
   "metadata": {},
   "source": [
    "In this part, I run the estimation using both **Stata** and **Python** and get the same results. I first present the method of moments estimate using Python, and then present the bootstrapped standard error estimates at the end of the file, using Stata's nlsur function as Voena (2015) did. "
   ]
  },
  {
   "cell_type": "code",
   "execution_count": 65,
   "metadata": {},
   "outputs": [],
   "source": [
    "import pandas as pd\n",
    "import numpy as np\n",
    "from scipy.optimize import minimize_scalar, minimize\n",
    "import matplotlib.pyplot as plt\n",
    "from scipy.stats import norm\n",
    "from math import sqrt"
   ]
  },
  {
   "cell_type": "code",
   "execution_count": 66,
   "metadata": {},
   "outputs": [],
   "source": [
    "import statsmodels.api as sm\n",
    "from statsmodels.discrete.discrete_model import Probit\n",
    "from scipy.stats import norm"
   ]
  },
  {
   "cell_type": "markdown",
   "metadata": {},
   "source": [
    "#### Preparing data"
   ]
  },
  {
   "cell_type": "code",
   "execution_count": 183,
   "metadata": {},
   "outputs": [],
   "source": [
    "data = pd.read_csv('Pset4Data.csv')\n",
    "data['educ'] = data['educ'].astype('category')\n",
    "data = pd.get_dummies(data, drop_first=True)\n",
    "data = pd.DataFrame.sort_values(data, ['id', 'wave'])"
   ]
  },
  {
   "cell_type": "markdown",
   "metadata": {},
   "source": [
    "#### Probit regression (Step 1)"
   ]
  },
  {
   "cell_type": "code",
   "execution_count": 184,
   "metadata": {},
   "outputs": [
    {
     "name": "stdout",
     "output_type": "stream",
     "text": [
      "Optimization terminated successfully.\n",
      "         Current function value: 0.120995\n",
      "         Iterations 13\n"
     ]
    },
    {
     "data": {
      "text/html": [
       "<div>\n",
       "<style scoped>\n",
       "    .dataframe tbody tr th:only-of-type {\n",
       "        vertical-align: middle;\n",
       "    }\n",
       "\n",
       "    .dataframe tbody tr th {\n",
       "        vertical-align: top;\n",
       "    }\n",
       "\n",
       "    .dataframe thead th {\n",
       "        text-align: right;\n",
       "    }\n",
       "</style>\n",
       "<table border=\"1\" class=\"dataframe\">\n",
       "  <thead>\n",
       "    <tr style=\"text-align: right;\">\n",
       "      <th></th>\n",
       "      <th>Probit coeff</th>\n",
       "      <th>Probit S.E.</th>\n",
       "    </tr>\n",
       "  </thead>\n",
       "  <tbody>\n",
       "    <tr>\n",
       "      <td>const</td>\n",
       "      <td>-0.414992</td>\n",
       "      <td>3.224307</td>\n",
       "    </tr>\n",
       "    <tr>\n",
       "      <td>age</td>\n",
       "      <td>0.534506</td>\n",
       "      <td>0.140587</td>\n",
       "    </tr>\n",
       "    <tr>\n",
       "      <td>age_2</td>\n",
       "      <td>-0.011089</td>\n",
       "      <td>0.001532</td>\n",
       "    </tr>\n",
       "    <tr>\n",
       "      <td>educ_High School Graduate</td>\n",
       "      <td>-0.321881</td>\n",
       "      <td>0.049910</td>\n",
       "    </tr>\n",
       "    <tr>\n",
       "      <td>educ_Postgraduate</td>\n",
       "      <td>0.148578</td>\n",
       "      <td>0.052944</td>\n",
       "    </tr>\n",
       "    <tr>\n",
       "      <td>educ_Some College</td>\n",
       "      <td>-0.177513</td>\n",
       "      <td>0.053268</td>\n",
       "    </tr>\n",
       "    <tr>\n",
       "      <td>noveliv</td>\n",
       "      <td>0.811032</td>\n",
       "      <td>0.023113</td>\n",
       "    </tr>\n",
       "  </tbody>\n",
       "</table>\n",
       "</div>"
      ],
      "text/plain": [
       "                           Probit coeff  Probit S.E.\n",
       "const                         -0.414992     3.224307\n",
       "age                            0.534506     0.140587\n",
       "age_2                         -0.011089     0.001532\n",
       "educ_High School Graduate     -0.321881     0.049910\n",
       "educ_Postgraduate              0.148578     0.052944\n",
       "educ_Some College             -0.177513     0.053268\n",
       "noveliv                        0.811032     0.023113"
      ]
     },
     "execution_count": 184,
     "metadata": {},
     "output_type": "execute_result"
    }
   ],
   "source": [
    "data['age_2'] = data['age']**2\n",
    "L = data['work']\n",
    "Π = data[['age', 'age_2', 'educ_High School Graduate', 'educ_Postgraduate', 'educ_Some College', 'noveliv']]\n",
    "Π = sm.add_constant(Π)\n",
    "probit_model = Probit(L, Π.astype(float)).fit()\n",
    "probit_coeff, probit_se = probit_model.params, probit_model.bse\n",
    "result_probit = pd.DataFrame()\n",
    "result_probit['Probit coeff'] = probit_coeff\n",
    "result_probit['Probit S.E.']  = probit_se\n",
    "result_probit"
   ]
  },
  {
   "cell_type": "markdown",
   "metadata": {},
   "source": [
    "#### Get $\\hat{\\lambda}_{it}$ and the lagged terms"
   ]
  },
  {
   "cell_type": "code",
   "execution_count": 185,
   "metadata": {},
   "outputs": [],
   "source": [
    "data['fit_value'] = probit_model.fittedvalues\n",
    "data['fit_value'] = -data['fit_value']\n",
    "data['λ'] = norm.pdf( data['fit_value'] )/(1-norm.cdf( data['fit_value'] ))\n",
    "\n",
    "data['λ_l1'] = data.groupby('id')['λ'].shift()\n",
    "data['d_lninc'] = data['lninc'] - data.groupby('id')['lninc'].shift()\n",
    "data['d_age_2'] = data['age_2'] - data.groupby('id')['age_2'].shift()\n",
    "data['d_age_2_l1'] = data.groupby('id')['d_age_2'].shift()\n",
    "data['d_lninc_l1'] = data.groupby('id')['d_lninc'].shift()\n",
    "\n",
    "ΔZ = data[['d_age_2', 'λ']]\n",
    "ΔZ = sm.add_constant(ΔZ)"
   ]
  },
  {
   "cell_type": "markdown",
   "metadata": {},
   "source": [
    "#### OLS regression (Step 2)"
   ]
  },
  {
   "cell_type": "code",
   "execution_count": 186,
   "metadata": {},
   "outputs": [
    {
     "data": {
      "text/html": [
       "<div>\n",
       "<style scoped>\n",
       "    .dataframe tbody tr th:only-of-type {\n",
       "        vertical-align: middle;\n",
       "    }\n",
       "\n",
       "    .dataframe tbody tr th {\n",
       "        vertical-align: top;\n",
       "    }\n",
       "\n",
       "    .dataframe thead th {\n",
       "        text-align: right;\n",
       "    }\n",
       "</style>\n",
       "<table border=\"1\" class=\"dataframe\">\n",
       "  <thead>\n",
       "    <tr style=\"text-align: right;\">\n",
       "      <th></th>\n",
       "      <th>OLS_Coeff</th>\n",
       "      <th>S.E.</th>\n",
       "    </tr>\n",
       "  </thead>\n",
       "  <tbody>\n",
       "    <tr>\n",
       "      <td>const</td>\n",
       "      <td>0.403554</td>\n",
       "      <td>0.012879</td>\n",
       "    </tr>\n",
       "    <tr>\n",
       "      <td>d_age_2</td>\n",
       "      <td>-0.020076</td>\n",
       "      <td>0.000189</td>\n",
       "    </tr>\n",
       "    <tr>\n",
       "      <td>λ</td>\n",
       "      <td>0.031588</td>\n",
       "      <td>0.012944</td>\n",
       "    </tr>\n",
       "  </tbody>\n",
       "</table>\n",
       "</div>"
      ],
      "text/plain": [
       "         OLS_Coeff      S.E.\n",
       "const     0.403554  0.012879\n",
       "d_age_2  -0.020076  0.000189\n",
       "λ         0.031588  0.012944"
      ]
     },
     "execution_count": 186,
     "metadata": {},
     "output_type": "execute_result"
    }
   ],
   "source": [
    "ols_model = sm.OLS(data['d_lninc'], ΔZ, missing='drop').fit()\n",
    " \n",
    "ols_result = pd.DataFrame()\n",
    "ols_result['OLS_Coeff'] = ols_model.params\n",
    "ols_result['S.E.']  = ols_model.HC1_se\n",
    "\n",
    "ols_result"
   ]
  },
  {
   "cell_type": "markdown",
   "metadata": {},
   "source": [
    "#### Get the estimated $\\hat{\\sigma}^2_{\\zeta\\eta}$ and its s.e., as well as $\\hat{\\Delta u}_{it}$"
   ]
  },
  {
   "cell_type": "code",
   "execution_count": 187,
   "metadata": {},
   "outputs": [],
   "source": [
    "σ_ζη = ols_model.params['λ']\n",
    "se_σ_ζη = ols_model.HC1_se['λ']\n",
    "data['Δu'] = data['d_lninc'] - ols_model.predict(ΔZ) + σ_ζη*data['λ']"
   ]
  },
  {
   "cell_type": "markdown",
   "metadata": {},
   "source": [
    "#### Estimate the other two parameters by the last two moment conditions (Step 3)"
   ]
  },
  {
   "cell_type": "code",
   "execution_count": 192,
   "metadata": {},
   "outputs": [],
   "source": [
    "data['Δu^2'] = data['Δu']**2\n",
    "data['Δu_l1']= data.groupby('id')['Δu'].shift()\n",
    "data['ΔuΔu_l1'] = data['Δu']*data['Δu_l1']\n",
    "\n",
    "data['moment1'] = data['Δu^2'] - σ_ζη**2 * data['fit_value'] * data['λ']\n",
    "data['moment2'] = -data['ΔuΔu_l1'] + σ_ζη**2 * data['λ']*data['λ_l1']\n",
    "data['moment1'] = data['moment1'] - 2*data['moment2']\n",
    "\n",
    "σ2_m = np.mean(data['moment2'])\n",
    "se_σ2_m = np.std(data['moment2'])/sqrt(len(data['moment2']))\n",
    "σ2_ζ = np.mean(data['moment1']) \n",
    "se_σ2_ζ = np.std(data['moment1'])/sqrt(len(data['moment1']))"
   ]
  },
  {
   "cell_type": "code",
   "execution_count": 195,
   "metadata": {},
   "outputs": [
    {
     "data": {
      "text/html": [
       "<div>\n",
       "<style scoped>\n",
       "    .dataframe tbody tr th:only-of-type {\n",
       "        vertical-align: middle;\n",
       "    }\n",
       "\n",
       "    .dataframe tbody tr th {\n",
       "        vertical-align: top;\n",
       "    }\n",
       "\n",
       "    .dataframe thead th {\n",
       "        text-align: right;\n",
       "    }\n",
       "</style>\n",
       "<table border=\"1\" class=\"dataframe\">\n",
       "  <thead>\n",
       "    <tr style=\"text-align: right;\">\n",
       "      <th></th>\n",
       "      <th>Parameters</th>\n",
       "      <th>MoM Estimates</th>\n",
       "      <th>s.e.</th>\n",
       "    </tr>\n",
       "  </thead>\n",
       "  <tbody>\n",
       "    <tr>\n",
       "      <td>0</td>\n",
       "      <td>$\\sigma_{\\zeta\\eta}$</td>\n",
       "      <td>0.031588</td>\n",
       "      <td>0.012944</td>\n",
       "    </tr>\n",
       "    <tr>\n",
       "      <td>1</td>\n",
       "      <td>$\\sigma^2_m$</td>\n",
       "      <td>0.019204</td>\n",
       "      <td>0.000476</td>\n",
       "    </tr>\n",
       "    <tr>\n",
       "      <td>2</td>\n",
       "      <td>$\\sigma^2_\\zeta$</td>\n",
       "      <td>0.031908</td>\n",
       "      <td>0.000917</td>\n",
       "    </tr>\n",
       "  </tbody>\n",
       "</table>\n",
       "</div>"
      ],
      "text/plain": [
       "             Parameters  MoM Estimates      s.e.\n",
       "0  $\\sigma_{\\zeta\\eta}$       0.031588  0.012944\n",
       "1          $\\sigma^2_m$       0.019204  0.000476\n",
       "2      $\\sigma^2_\\zeta$       0.031908  0.000917"
      ]
     },
     "execution_count": 195,
     "metadata": {},
     "output_type": "execute_result"
    }
   ],
   "source": [
    "Estimates = np.array([σ_ζη, σ2_m, σ2_ζ])\n",
    "SE        = np.array([se_σ_ζη, se_σ2_m, se_σ2_ζ])\n",
    "params    = np.array(['$\\sigma_{\\zeta\\eta}$', '$\\sigma^2_m$', '$\\sigma^2_\\zeta$'])\n",
    "\n",
    "result_σ_mom  = pd.DataFrame()\n",
    "result_σ_mom['Parameters'] = params\n",
    "result_σ_mom['MoM Estimates'] = Estimates\n",
    "result_σ_mom['s.e.']      = SE\n",
    "result_σ_mom"
   ]
  },
  {
   "cell_type": "markdown",
   "metadata": {},
   "source": [
    "#### NLS estimates with Bootstrapped s.e. (using Stata) \n",
    "The estimates of $\\sigma_{\\zeta\\eta}$ is"
   ]
  },
  {
   "cell_type": "code",
   "execution_count": 197,
   "metadata": {},
   "outputs": [
    {
     "data": {
      "text/html": [
       "<div>\n",
       "<style scoped>\n",
       "    .dataframe tbody tr th:only-of-type {\n",
       "        vertical-align: middle;\n",
       "    }\n",
       "\n",
       "    .dataframe tbody tr th {\n",
       "        vertical-align: top;\n",
       "    }\n",
       "\n",
       "    .dataframe thead th {\n",
       "        text-align: right;\n",
       "    }\n",
       "</style>\n",
       "<table border=\"1\" class=\"dataframe\">\n",
       "  <thead>\n",
       "    <tr style=\"text-align: right;\">\n",
       "      <th></th>\n",
       "      <th>Parameters</th>\n",
       "      <th>NLS Estimates</th>\n",
       "      <th>Bootstrap s.e.</th>\n",
       "    </tr>\n",
       "  </thead>\n",
       "  <tbody>\n",
       "    <tr>\n",
       "      <td>0</td>\n",
       "      <td>$\\sigma_{\\zeta\\eta}$</td>\n",
       "      <td>0.000000</td>\n",
       "      <td>0.000000</td>\n",
       "    </tr>\n",
       "    <tr>\n",
       "      <td>1</td>\n",
       "      <td>$\\sigma^2_m$</td>\n",
       "      <td>0.019190</td>\n",
       "      <td>0.000629</td>\n",
       "    </tr>\n",
       "    <tr>\n",
       "      <td>2</td>\n",
       "      <td>$\\sigma^2_\\zeta$</td>\n",
       "      <td>0.031908</td>\n",
       "      <td>0.001267</td>\n",
       "    </tr>\n",
       "  </tbody>\n",
       "</table>\n",
       "</div>"
      ],
      "text/plain": [
       "             Parameters  NLS Estimates  Bootstrap s.e.\n",
       "0  $\\sigma_{\\zeta\\eta}$       0.000000        0.000000\n",
       "1          $\\sigma^2_m$       0.019190        0.000629\n",
       "2      $\\sigma^2_\\zeta$       0.031908        0.001267"
      ]
     },
     "execution_count": 197,
     "metadata": {},
     "output_type": "execute_result"
    }
   ],
   "source": [
    "Estimates_nls = np.array([0, .0191901, .031908 ])\n",
    "SE_nls        = np.array([0, .000629 , .0012672])\n",
    "\n",
    "result_σ_nls  = pd.DataFrame()\n",
    "result_σ_nls['Parameters'] = params\n",
    "result_σ_nls['NLS Estimates'] = Estimates_nls\n",
    "result_σ_nls['Bootstrap s.e.']      = SE_nls\n",
    "result_σ_nls"
   ]
  }
 ],
 "metadata": {
  "kernelspec": {
   "display_name": "Python 3",
   "language": "python",
   "name": "python3"
  },
  "language_info": {
   "codemirror_mode": {
    "name": "ipython",
    "version": 3
   },
   "file_extension": ".py",
   "mimetype": "text/x-python",
   "name": "python",
   "nbconvert_exporter": "python",
   "pygments_lexer": "ipython3",
   "version": "3.7.4"
  }
 },
 "nbformat": 4,
 "nbformat_minor": 4
}
